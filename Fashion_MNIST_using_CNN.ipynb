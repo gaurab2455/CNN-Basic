{
  "nbformat": 4,
  "nbformat_minor": 0,
  "metadata": {
    "colab": {
      "name": "Fashion MNIST using CNN",
      "provenance": [],
      "authorship_tag": "ABX9TyPLR105o+Wm8MtQM8coraCv",
      "include_colab_link": true
    },
    "kernelspec": {
      "name": "python3",
      "display_name": "Python 3"
    },
    "accelerator": "TPU"
  },
  "cells": [
    {
      "cell_type": "markdown",
      "metadata": {
        "id": "view-in-github",
        "colab_type": "text"
      },
      "source": [
        "<a href=\"https://colab.research.google.com/github/gaurab2455/CNN-Basic/blob/master/Fashion_MNIST_using_CNN.ipynb\" target=\"_parent\"><img src=\"https://colab.research.google.com/assets/colab-badge.svg\" alt=\"Open In Colab\"/></a>"
      ]
    },
    {
      "cell_type": "code",
      "metadata": {
        "id": "m7kOVBui_5aF",
        "colab_type": "code",
        "colab": {}
      },
      "source": [
        "import numpy as np\n",
        "import cv2\n",
        "import pandas as pd\n",
        "import matplotlib.pyplot as plt\n",
        "from keras.models import Sequential\n",
        "from keras.layers import Input,Convolution2D,MaxPooling2D,Flatten,Dense,Dropout\n",
        "from keras.utils import np_utils\n",
        "import tensorflow"
      ],
      "execution_count": 0,
      "outputs": []
    },
    {
      "cell_type": "code",
      "metadata": {
        "id": "L1ovAVpvBxPv",
        "colab_type": "code",
        "colab": {}
      },
      "source": [
        "data = pd.read_csv('/content/drive/My Drive/Colab Notebooks/fashion-mnist_test.csv')"
      ],
      "execution_count": 0,
      "outputs": []
    },
    {
      "cell_type": "code",
      "metadata": {
        "id": "ghmb8yV-B3Zl",
        "colab_type": "code",
        "colab": {
          "base_uri": "https://localhost:8080/",
          "height": 167
        },
        "outputId": "8bddcb84-49b3-47fa-ad40-a1f8e04dc9f0"
      },
      "source": [
        "print(data.shape, type(data))\n",
        "print(data.head(n=5))"
      ],
      "execution_count": 19,
      "outputs": [
        {
          "output_type": "stream",
          "text": [
            "(10000, 785) <class 'pandas.core.frame.DataFrame'>\n",
            "   label  pixel1  pixel2  pixel3  ...  pixel781  pixel782  pixel783  pixel784\n",
            "0      0       0       0       0  ...         0         0         0         0\n",
            "1      1       0       0       0  ...         0         0         0         0\n",
            "2      2       0       0       0  ...        31         0         0         0\n",
            "3      2       0       0       0  ...       222        56         0         0\n",
            "4      3       0       0       0  ...         0         0         0         0\n",
            "\n",
            "[5 rows x 785 columns]\n"
          ],
          "name": "stdout"
        }
      ]
    },
    {
      "cell_type": "code",
      "metadata": {
        "id": "e5pXMqYfCNhx",
        "colab_type": "code",
        "colab": {
          "base_uri": "https://localhost:8080/",
          "height": 33
        },
        "outputId": "47747a4b-9b59-4354-8b1e-a7cc9f4ca261"
      },
      "source": [
        "X = data.values\n",
        "print(type(X))"
      ],
      "execution_count": 20,
      "outputs": [
        {
          "output_type": "stream",
          "text": [
            "<class 'numpy.ndarray'>\n"
          ],
          "name": "stdout"
        }
      ]
    },
    {
      "cell_type": "code",
      "metadata": {
        "id": "XulnufB0_qev",
        "colab_type": "code",
        "colab": {
          "base_uri": "https://localhost:8080/",
          "height": 33
        },
        "outputId": "b5ce8cf1-2ddd-421e-fc6c-2e2e189f78fe"
      },
      "source": [
        "Y = X[:,0]\n",
        "X = X[:,1:]\n",
        "X = X/255.0\n",
        "print(Y.shape,X.shape)"
      ],
      "execution_count": 21,
      "outputs": [
        {
          "output_type": "stream",
          "text": [
            "(10000,) (10000, 784)\n"
          ],
          "name": "stdout"
        }
      ]
    },
    {
      "cell_type": "code",
      "metadata": {
        "id": "NQBWUeWUCqHu",
        "colab_type": "code",
        "colab": {
          "base_uri": "https://localhost:8080/",
          "height": 33
        },
        "outputId": "006d90c0-a6e5-424a-c554-8cafeac2deaa"
      },
      "source": [
        "X = X.reshape((-1,28,28,1))\n",
        "Y = np_utils.to_categorical(Y) # Changes y value to one hot encoding format\n",
        "print(Y.shape, X.shape)"
      ],
      "execution_count": 22,
      "outputs": [
        {
          "output_type": "stream",
          "text": [
            "(10000, 10) (10000, 28, 28, 1)\n"
          ],
          "name": "stdout"
        }
      ]
    },
    {
      "cell_type": "markdown",
      "metadata": {
        "id": "Oam2bMKtKp7w",
        "colab_type": "text"
      },
      "source": [
        "### CNN Model"
      ]
    },
    {
      "cell_type": "code",
      "metadata": {
        "id": "PfmM86jWKm1n",
        "colab_type": "code",
        "colab": {}
      },
      "source": [
        "model = Sequential()\n",
        "model.add(Convolution2D(32,(3,3),activation = 'relu', input_shape = (28,28,1)))\n",
        "model.add(Convolution2D(64,(3,3),activation='relu'))\n",
        "model.add(Dropout(0.25))\n",
        "model.add(MaxPooling2D(2,2))\n",
        "model.add(Convolution2D(32,(5,5),activation='relu'))\n",
        "model.add(Convolution2D(8,(5,5),activation='relu'))\n",
        "model.add(Flatten())\n",
        "model.add(Dense(10,activation='softmax'))"
      ],
      "execution_count": 0,
      "outputs": []
    },
    {
      "cell_type": "code",
      "metadata": {
        "id": "rF-EpSdvLtNB",
        "colab_type": "code",
        "colab": {
          "base_uri": "https://localhost:8080/",
          "height": 418
        },
        "outputId": "35d3df8d-2705-4164-cf7c-42787de2cef4"
      },
      "source": [
        "model.summary()"
      ],
      "execution_count": 28,
      "outputs": [
        {
          "output_type": "stream",
          "text": [
            "Model: \"sequential_5\"\n",
            "_________________________________________________________________\n",
            "Layer (type)                 Output Shape              Param #   \n",
            "=================================================================\n",
            "conv2d_6 (Conv2D)            (None, 26, 26, 32)        320       \n",
            "_________________________________________________________________\n",
            "conv2d_7 (Conv2D)            (None, 24, 24, 64)        18496     \n",
            "_________________________________________________________________\n",
            "dropout_3 (Dropout)          (None, 24, 24, 64)        0         \n",
            "_________________________________________________________________\n",
            "max_pooling2d_3 (MaxPooling2 (None, 12, 12, 64)        0         \n",
            "_________________________________________________________________\n",
            "conv2d_8 (Conv2D)            (None, 8, 8, 32)          51232     \n",
            "_________________________________________________________________\n",
            "conv2d_9 (Conv2D)            (None, 4, 4, 8)           6408      \n",
            "_________________________________________________________________\n",
            "flatten_1 (Flatten)          (None, 128)               0         \n",
            "_________________________________________________________________\n",
            "dense_1 (Dense)              (None, 10)                1290      \n",
            "=================================================================\n",
            "Total params: 77,746\n",
            "Trainable params: 77,746\n",
            "Non-trainable params: 0\n",
            "_________________________________________________________________\n"
          ],
          "name": "stdout"
        }
      ]
    },
    {
      "cell_type": "code",
      "metadata": {
        "id": "_nNhv3J0L97l",
        "colab_type": "code",
        "colab": {}
      },
      "source": [
        "model.compile(loss = 'categorical_crossentropy', optimizer='adam',metrics = [\"accuracy\"])"
      ],
      "execution_count": 0,
      "outputs": []
    },
    {
      "cell_type": "code",
      "metadata": {
        "id": "OzK1k5hlMSnO",
        "colab_type": "code",
        "colab": {
          "base_uri": "https://localhost:8080/",
          "height": 702
        },
        "outputId": "6c746d5c-9d81-4eaf-dc02-f463f47bd388"
      },
      "source": [
        "hist = model.fit(X,Y,shuffle=True,epochs=20,validation_split=0.2)"
      ],
      "execution_count": 30,
      "outputs": [
        {
          "output_type": "stream",
          "text": [
            "Train on 8000 samples, validate on 2000 samples\n",
            "Epoch 1/20\n",
            "8000/8000 [==============================] - 30s 4ms/step - loss: 0.9627 - accuracy: 0.6475 - val_loss: 0.6731 - val_accuracy: 0.7570\n",
            "Epoch 2/20\n",
            "8000/8000 [==============================] - 29s 4ms/step - loss: 0.5706 - accuracy: 0.7894 - val_loss: 0.5672 - val_accuracy: 0.8005\n",
            "Epoch 3/20\n",
            "8000/8000 [==============================] - 30s 4ms/step - loss: 0.4712 - accuracy: 0.8304 - val_loss: 0.5128 - val_accuracy: 0.8180\n",
            "Epoch 4/20\n",
            "8000/8000 [==============================] - 29s 4ms/step - loss: 0.4219 - accuracy: 0.8489 - val_loss: 0.4775 - val_accuracy: 0.8295\n",
            "Epoch 5/20\n",
            "8000/8000 [==============================] - 29s 4ms/step - loss: 0.3863 - accuracy: 0.8604 - val_loss: 0.4316 - val_accuracy: 0.8415\n",
            "Epoch 6/20\n",
            "8000/8000 [==============================] - 29s 4ms/step - loss: 0.3417 - accuracy: 0.8771 - val_loss: 0.4029 - val_accuracy: 0.8550\n",
            "Epoch 7/20\n",
            "8000/8000 [==============================] - 29s 4ms/step - loss: 0.3245 - accuracy: 0.8823 - val_loss: 0.4054 - val_accuracy: 0.8530\n",
            "Epoch 8/20\n",
            "8000/8000 [==============================] - 29s 4ms/step - loss: 0.2955 - accuracy: 0.8916 - val_loss: 0.3908 - val_accuracy: 0.8510\n",
            "Epoch 9/20\n",
            "8000/8000 [==============================] - 29s 4ms/step - loss: 0.2779 - accuracy: 0.8965 - val_loss: 0.3860 - val_accuracy: 0.8610\n",
            "Epoch 10/20\n",
            "8000/8000 [==============================] - 29s 4ms/step - loss: 0.2607 - accuracy: 0.9070 - val_loss: 0.3615 - val_accuracy: 0.8750\n",
            "Epoch 11/20\n",
            "8000/8000 [==============================] - 29s 4ms/step - loss: 0.2359 - accuracy: 0.9156 - val_loss: 0.3561 - val_accuracy: 0.8765\n",
            "Epoch 12/20\n",
            "8000/8000 [==============================] - 29s 4ms/step - loss: 0.2240 - accuracy: 0.9155 - val_loss: 0.3631 - val_accuracy: 0.8780\n",
            "Epoch 13/20\n",
            "8000/8000 [==============================] - 29s 4ms/step - loss: 0.2030 - accuracy: 0.9255 - val_loss: 0.3945 - val_accuracy: 0.8660\n",
            "Epoch 14/20\n",
            "8000/8000 [==============================] - 29s 4ms/step - loss: 0.1925 - accuracy: 0.9314 - val_loss: 0.3963 - val_accuracy: 0.8625\n",
            "Epoch 15/20\n",
            "8000/8000 [==============================] - 29s 4ms/step - loss: 0.1814 - accuracy: 0.9327 - val_loss: 0.3787 - val_accuracy: 0.8770\n",
            "Epoch 16/20\n",
            "8000/8000 [==============================] - 29s 4ms/step - loss: 0.1645 - accuracy: 0.9385 - val_loss: 0.4333 - val_accuracy: 0.8685\n",
            "Epoch 17/20\n",
            "8000/8000 [==============================] - 29s 4ms/step - loss: 0.1574 - accuracy: 0.9369 - val_loss: 0.4276 - val_accuracy: 0.8660\n",
            "Epoch 18/20\n",
            "8000/8000 [==============================] - 29s 4ms/step - loss: 0.1455 - accuracy: 0.9473 - val_loss: 0.3891 - val_accuracy: 0.8805\n",
            "Epoch 19/20\n",
            "8000/8000 [==============================] - 29s 4ms/step - loss: 0.1297 - accuracy: 0.9520 - val_loss: 0.4048 - val_accuracy: 0.8770\n",
            "Epoch 20/20\n",
            "8000/8000 [==============================] - 29s 4ms/step - loss: 0.1200 - accuracy: 0.9581 - val_loss: 0.4115 - val_accuracy: 0.8760\n"
          ],
          "name": "stdout"
        }
      ]
    },
    {
      "cell_type": "code",
      "metadata": {
        "id": "9mPFJe-IMeUm",
        "colab_type": "code",
        "colab": {
          "base_uri": "https://localhost:8080/",
          "height": 1000
        },
        "outputId": "58c15c33-1515-46b4-f3b6-7e9cc395ce6f"
      },
      "source": [
        "hist.history"
      ],
      "execution_count": 31,
      "outputs": [
        {
          "output_type": "execute_result",
          "data": {
            "text/plain": [
              "{'accuracy': [0.6475,\n",
              "  0.789375,\n",
              "  0.830375,\n",
              "  0.848875,\n",
              "  0.860375,\n",
              "  0.877125,\n",
              "  0.88225,\n",
              "  0.891625,\n",
              "  0.8965,\n",
              "  0.907,\n",
              "  0.915625,\n",
              "  0.9155,\n",
              "  0.9255,\n",
              "  0.931375,\n",
              "  0.93275,\n",
              "  0.9385,\n",
              "  0.936875,\n",
              "  0.94725,\n",
              "  0.952,\n",
              "  0.958125],\n",
              " 'loss': [0.9626937338113785,\n",
              "  0.5705563687086105,\n",
              "  0.4712449237704277,\n",
              "  0.4218591693043709,\n",
              "  0.3862769398093224,\n",
              "  0.3417436058521271,\n",
              "  0.32453099893033505,\n",
              "  0.29554308371245863,\n",
              "  0.2779408832490444,\n",
              "  0.2607425234019756,\n",
              "  0.2358519714474678,\n",
              "  0.2239994470179081,\n",
              "  0.20300074625760317,\n",
              "  0.1925374398380518,\n",
              "  0.18144096958637237,\n",
              "  0.16445108141750098,\n",
              "  0.15739799861609935,\n",
              "  0.145541962236166,\n",
              "  0.12968965443596245,\n",
              "  0.11995461586304008],\n",
              " 'val_accuracy': [0.7570000290870667,\n",
              "  0.8004999756813049,\n",
              "  0.8180000185966492,\n",
              "  0.8295000195503235,\n",
              "  0.8414999842643738,\n",
              "  0.8550000190734863,\n",
              "  0.8529999852180481,\n",
              "  0.8510000109672546,\n",
              "  0.8610000014305115,\n",
              "  0.875,\n",
              "  0.8765000104904175,\n",
              "  0.878000020980835,\n",
              "  0.8659999966621399,\n",
              "  0.862500011920929,\n",
              "  0.8769999742507935,\n",
              "  0.8684999942779541,\n",
              "  0.8659999966621399,\n",
              "  0.8805000185966492,\n",
              "  0.8769999742507935,\n",
              "  0.8759999871253967],\n",
              " 'val_loss': [0.6731317353248596,\n",
              "  0.5671994032859802,\n",
              "  0.5128336720466614,\n",
              "  0.47752894258499146,\n",
              "  0.431594425201416,\n",
              "  0.4029131064414978,\n",
              "  0.40543725156784055,\n",
              "  0.3908254203796387,\n",
              "  0.38597438669204714,\n",
              "  0.3615344853401184,\n",
              "  0.3560518503189087,\n",
              "  0.36313677215576173,\n",
              "  0.39452052569389345,\n",
              "  0.39625244319438935,\n",
              "  0.37874165165424345,\n",
              "  0.4332866342067718,\n",
              "  0.42755998551845553,\n",
              "  0.3890526212453842,\n",
              "  0.4048124951124191,\n",
              "  0.4114858067035675]}"
            ]
          },
          "metadata": {
            "tags": []
          },
          "execution_count": 31
        }
      ]
    },
    {
      "cell_type": "code",
      "metadata": {
        "id": "w-cqB3J4PPOK",
        "colab_type": "code",
        "colab": {
          "base_uri": "https://localhost:8080/",
          "height": 268
        },
        "outputId": "c0d738ae-1dd3-45ef-8de5-7e374dd3ff35"
      },
      "source": [
        "plt.figure()\n",
        "plt.plot(hist.history['loss'],'g')\n",
        "plt.plot(hist.history['val_loss'],'b')\n",
        "plt.plot(hist.history['accuracy'],'r')\n",
        "plt.plot(hist.history['val_accuracy'],'y')\n",
        "plt.show()"
      ],
      "execution_count": 33,
      "outputs": [
        {
          "output_type": "display_data",
          "data": {
            "image/png": "[encoded data removed]",
            "text/plain": [
              "<Figure size 432x288 with 1 Axes>"
            ]
          },
          "metadata": {
            "tags": [],
            "needs_background": "light"
          }
        }
      ]
    },
    {
      "cell_type": "code",
      "metadata": {
        "id": "Np-HBHa3PUtB",
        "colab_type": "code",
        "colab": {}
      },
      "source": [
        ""
      ],
      "execution_count": 0,
      "outputs": []
    }
  ]
}